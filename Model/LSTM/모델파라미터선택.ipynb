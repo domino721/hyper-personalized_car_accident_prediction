{
  "nbformat": 4,
  "nbformat_minor": 0,
  "metadata": {
    "colab": {
      "provenance": [],
      "gpuType": "T4"
    },
    "kernelspec": {
      "name": "python3",
      "display_name": "Python 3"
    },
    "language_info": {
      "name": "python"
    },
    "accelerator": "GPU"
  },
  "cells": [
    {
      "cell_type": "markdown",
      "source": [
        "### import"
      ],
      "metadata": {
        "id": "lFFlhg9Dr4F_"
      }
    },
    {
      "cell_type": "code",
      "source": [
        "import pandas as pd"
      ],
      "metadata": {
        "id": "72igQdSMsBI-"
      },
      "execution_count": 1,
      "outputs": []
    },
    {
      "cell_type": "markdown",
      "source": [],
      "metadata": {
        "id": "uVKumPPxr69Y"
      }
    },
    {
      "cell_type": "markdown",
      "source": [
        "### 데이터 가져오기\n"
      ],
      "metadata": {
        "id": "B4UYjBfvryGN"
      }
    },
    {
      "cell_type": "code",
      "execution_count": 2,
      "metadata": {
        "colab": {
          "base_uri": "https://localhost:8080/",
          "height": 373
        },
        "id": "UVzfV5_6qIBC",
        "outputId": "5a3f8f0e-7b16-460d-a85e-6a0dacdd3f12"
      },
      "outputs": [
        {
          "output_type": "error",
          "ename": "MessageError",
          "evalue": "Error: credential propagation was unsuccessful",
          "traceback": [
            "\u001b[0;31m---------------------------------------------------------------------------\u001b[0m",
            "\u001b[0;31mMessageError\u001b[0m                              Traceback (most recent call last)",
            "\u001b[0;32m<ipython-input-2-2d0bb86fe70d>\u001b[0m in \u001b[0;36m<cell line: 3>\u001b[0;34m()\u001b[0m\n\u001b[1;32m      1\u001b[0m \u001b[0;31m# 코랩 mount\u001b[0m\u001b[0;34m\u001b[0m\u001b[0;34m\u001b[0m\u001b[0m\n\u001b[1;32m      2\u001b[0m \u001b[0;32mfrom\u001b[0m \u001b[0mgoogle\u001b[0m\u001b[0;34m.\u001b[0m\u001b[0mcolab\u001b[0m \u001b[0;32mimport\u001b[0m \u001b[0mdrive\u001b[0m\u001b[0;34m\u001b[0m\u001b[0;34m\u001b[0m\u001b[0m\n\u001b[0;32m----> 3\u001b[0;31m \u001b[0mdrive\u001b[0m\u001b[0;34m.\u001b[0m\u001b[0mmount\u001b[0m\u001b[0;34m(\u001b[0m\u001b[0;34m'/content/drive'\u001b[0m\u001b[0;34m)\u001b[0m\u001b[0;34m\u001b[0m\u001b[0;34m\u001b[0m\u001b[0m\n\u001b[0m\u001b[1;32m      4\u001b[0m \u001b[0mroot_path\u001b[0m \u001b[0;34m=\u001b[0m \u001b[0;34m\"/content/drive/MyDrive/기계학습이해/\"\u001b[0m\u001b[0;34m\u001b[0m\u001b[0;34m\u001b[0m\u001b[0m\n\u001b[1;32m      5\u001b[0m \u001b[0;34m\u001b[0m\u001b[0m\n",
            "\u001b[0;32m/usr/local/lib/python3.10/dist-packages/google/colab/drive.py\u001b[0m in \u001b[0;36mmount\u001b[0;34m(mountpoint, force_remount, timeout_ms, readonly)\u001b[0m\n\u001b[1;32m     98\u001b[0m \u001b[0;32mdef\u001b[0m \u001b[0mmount\u001b[0m\u001b[0;34m(\u001b[0m\u001b[0mmountpoint\u001b[0m\u001b[0;34m,\u001b[0m \u001b[0mforce_remount\u001b[0m\u001b[0;34m=\u001b[0m\u001b[0;32mFalse\u001b[0m\u001b[0;34m,\u001b[0m \u001b[0mtimeout_ms\u001b[0m\u001b[0;34m=\u001b[0m\u001b[0;36m120000\u001b[0m\u001b[0;34m,\u001b[0m \u001b[0mreadonly\u001b[0m\u001b[0;34m=\u001b[0m\u001b[0;32mFalse\u001b[0m\u001b[0;34m)\u001b[0m\u001b[0;34m:\u001b[0m\u001b[0;34m\u001b[0m\u001b[0;34m\u001b[0m\u001b[0m\n\u001b[1;32m     99\u001b[0m   \u001b[0;34m\"\"\"Mount your Google Drive at the specified mountpoint path.\"\"\"\u001b[0m\u001b[0;34m\u001b[0m\u001b[0;34m\u001b[0m\u001b[0m\n\u001b[0;32m--> 100\u001b[0;31m   return _mount(\n\u001b[0m\u001b[1;32m    101\u001b[0m       \u001b[0mmountpoint\u001b[0m\u001b[0;34m,\u001b[0m\u001b[0;34m\u001b[0m\u001b[0;34m\u001b[0m\u001b[0m\n\u001b[1;32m    102\u001b[0m       \u001b[0mforce_remount\u001b[0m\u001b[0;34m=\u001b[0m\u001b[0mforce_remount\u001b[0m\u001b[0;34m,\u001b[0m\u001b[0;34m\u001b[0m\u001b[0;34m\u001b[0m\u001b[0m\n",
            "\u001b[0;32m/usr/local/lib/python3.10/dist-packages/google/colab/drive.py\u001b[0m in \u001b[0;36m_mount\u001b[0;34m(mountpoint, force_remount, timeout_ms, ephemeral, readonly)\u001b[0m\n\u001b[1;32m    131\u001b[0m   )\n\u001b[1;32m    132\u001b[0m   \u001b[0;32mif\u001b[0m \u001b[0mephemeral\u001b[0m\u001b[0;34m:\u001b[0m\u001b[0;34m\u001b[0m\u001b[0;34m\u001b[0m\u001b[0m\n\u001b[0;32m--> 133\u001b[0;31m     _message.blocking_request(\n\u001b[0m\u001b[1;32m    134\u001b[0m         \u001b[0;34m'request_auth'\u001b[0m\u001b[0;34m,\u001b[0m \u001b[0mrequest\u001b[0m\u001b[0;34m=\u001b[0m\u001b[0;34m{\u001b[0m\u001b[0;34m'authType'\u001b[0m\u001b[0;34m:\u001b[0m \u001b[0;34m'dfs_ephemeral'\u001b[0m\u001b[0;34m}\u001b[0m\u001b[0;34m,\u001b[0m \u001b[0mtimeout_sec\u001b[0m\u001b[0;34m=\u001b[0m\u001b[0;32mNone\u001b[0m\u001b[0;34m\u001b[0m\u001b[0;34m\u001b[0m\u001b[0m\n\u001b[1;32m    135\u001b[0m     )\n",
            "\u001b[0;32m/usr/local/lib/python3.10/dist-packages/google/colab/_message.py\u001b[0m in \u001b[0;36mblocking_request\u001b[0;34m(request_type, request, timeout_sec, parent)\u001b[0m\n\u001b[1;32m    174\u001b[0m       \u001b[0mrequest_type\u001b[0m\u001b[0;34m,\u001b[0m \u001b[0mrequest\u001b[0m\u001b[0;34m,\u001b[0m \u001b[0mparent\u001b[0m\u001b[0;34m=\u001b[0m\u001b[0mparent\u001b[0m\u001b[0;34m,\u001b[0m \u001b[0mexpect_reply\u001b[0m\u001b[0;34m=\u001b[0m\u001b[0;32mTrue\u001b[0m\u001b[0;34m\u001b[0m\u001b[0;34m\u001b[0m\u001b[0m\n\u001b[1;32m    175\u001b[0m   )\n\u001b[0;32m--> 176\u001b[0;31m   \u001b[0;32mreturn\u001b[0m \u001b[0mread_reply_from_input\u001b[0m\u001b[0;34m(\u001b[0m\u001b[0mrequest_id\u001b[0m\u001b[0;34m,\u001b[0m \u001b[0mtimeout_sec\u001b[0m\u001b[0;34m)\u001b[0m\u001b[0;34m\u001b[0m\u001b[0;34m\u001b[0m\u001b[0m\n\u001b[0m",
            "\u001b[0;32m/usr/local/lib/python3.10/dist-packages/google/colab/_message.py\u001b[0m in \u001b[0;36mread_reply_from_input\u001b[0;34m(message_id, timeout_sec)\u001b[0m\n\u001b[1;32m    101\u001b[0m     ):\n\u001b[1;32m    102\u001b[0m       \u001b[0;32mif\u001b[0m \u001b[0;34m'error'\u001b[0m \u001b[0;32min\u001b[0m \u001b[0mreply\u001b[0m\u001b[0;34m:\u001b[0m\u001b[0;34m\u001b[0m\u001b[0;34m\u001b[0m\u001b[0m\n\u001b[0;32m--> 103\u001b[0;31m         \u001b[0;32mraise\u001b[0m \u001b[0mMessageError\u001b[0m\u001b[0;34m(\u001b[0m\u001b[0mreply\u001b[0m\u001b[0;34m[\u001b[0m\u001b[0;34m'error'\u001b[0m\u001b[0;34m]\u001b[0m\u001b[0;34m)\u001b[0m\u001b[0;34m\u001b[0m\u001b[0;34m\u001b[0m\u001b[0m\n\u001b[0m\u001b[1;32m    104\u001b[0m       \u001b[0;32mreturn\u001b[0m \u001b[0mreply\u001b[0m\u001b[0;34m.\u001b[0m\u001b[0mget\u001b[0m\u001b[0;34m(\u001b[0m\u001b[0;34m'data'\u001b[0m\u001b[0;34m,\u001b[0m \u001b[0;32mNone\u001b[0m\u001b[0;34m)\u001b[0m\u001b[0;34m\u001b[0m\u001b[0;34m\u001b[0m\u001b[0m\n\u001b[1;32m    105\u001b[0m \u001b[0;34m\u001b[0m\u001b[0m\n",
            "\u001b[0;31mMessageError\u001b[0m: Error: credential propagation was unsuccessful"
          ]
        }
      ],
      "source": [
        "# 코랩 mount\n",
        "from google.colab import drive\n",
        "drive.mount('/content/drive')\n",
        "root_path = \"/content/drive/MyDrive/기계학습이해/\"\n",
        "\n",
        "# root_path = \"C:/Users/user/Desktop/기계학습이해/\"\n",
        "\n",
        "# 데이터 읽어오기\n",
        "df1 = pd.read_csv(root_path+\"Dataset/(자동차보험) 고객별 사고 발생률 예측 모델링_1.csv\", encoding = \"cp949\", engine='python')\n",
        "df2 = pd.read_csv(root_path+\"Dataset/(자동차보험) 고객별 사고 발생률 예측 모델링_2.csv\", encoding = \"cp949\", engine='python')\n",
        "df3 = pd.read_csv(root_path+\"Dataset/(자동차보험) 고객별 사고 발생률 예측 모델링_3.csv\", encoding = \"cp949\", engine='python')"
      ]
    },
    {
      "cell_type": "code",
      "source": [
        "# 데이터 이상 없는 df의 column 확인\n",
        "col = df2.columns\n",
        "\n",
        "# 오류로 생성된 column 삭제\n",
        "df1 = df1[col]\n",
        "\n",
        "\n",
        "#df1의 파일상 null 행 삭제\n",
        "null_idx = df1[df1[\"차종\"].isnull()].index.tolist()\n",
        "df1 = df1.drop(index = null_idx)\n",
        "\n",
        "\n",
        "# 데이터 프레임 합치기\n",
        "df = pd.concat([df1, df2, df3], ignore_index = True)\n",
        "df"
      ],
      "metadata": {
        "id": "FCG43G4HqwK5"
      },
      "execution_count": null,
      "outputs": []
    },
    {
      "cell_type": "code",
      "source": [
        "# 수치형인데 object인 column 형변환\n",
        "df['YUHO'] = df['YUHO'].str.replace(',', '').astype(int)\n",
        "df['SAGO'] = df['SAGO'].apply(lambda x: int(float(str(x).replace(',', '').split('.')[0])))\n",
        "df['SAGO'] = df['SAGO'].replace(',', '').astype(int)\n",
        "\n",
        "# column명 한글로 변환\n",
        "df = df.rename(columns = {\"ZINSRDAVL\": \"연령대\", \"ZIOSEXCD\": \"성별\",\n",
        "                        \"ZDPRODSCD\": \"국산차량여부\", \"NCR\": \"직전3년간사고건수\",\n",
        "                        \"ZCARPSGVL\": \"차량경과년수\", \"ZDRVLISCD___T\": \"운전자한정특별약관\",\n",
        "                        \"ZENTCARCD\": \"가입경력코드\", \"ZCARISDAM\": \"차량가입금액\",\n",
        "                        \"ZIMAGERVL\": \"영상기록장치특약가입\", \"YUHO\": \"유효대수\",\n",
        "                        \"SAGO\" : \"사고건수\"})\n",
        "\n",
        "# 사용하지 않는 column drop\n",
        "df = df.drop(columns = ['ZCPRLCLCD', 'ZDRVLISCD'])\n",
        "\n",
        "\n",
        "\n",
        "df"
      ],
      "metadata": {
        "id": "fYlxknjRqyqF"
      },
      "execution_count": null,
      "outputs": []
    },
    {
      "cell_type": "markdown",
      "source": [],
      "metadata": {
        "id": "bcLci8J4r2RE"
      }
    },
    {
      "cell_type": "code",
      "source": [
        "# 사고율 / 사고유무 df 생성\n",
        "df['사고유무'] = df.apply(lambda row: 0 if row['사고건수'] == 0 else 1, axis = 1)\n",
        "df_yn = df.drop(columns = ['사고건수'])"
      ],
      "metadata": {
        "id": "Qbz4VrVzq1E9"
      },
      "execution_count": null,
      "outputs": []
    },
    {
      "cell_type": "code",
      "source": [
        "# x, y 분리\n",
        "yn_X = df_yn.drop(columns = [\"사고유무\"])\n",
        "yn_y = df_yn[\"사고유무\"]"
      ],
      "metadata": {
        "id": "uhYX7geCrSV-"
      },
      "execution_count": null,
      "outputs": []
    },
    {
      "cell_type": "code",
      "source": [
        "yn_X"
      ],
      "metadata": {
        "id": "p4G6XCsDrhcP"
      },
      "execution_count": null,
      "outputs": []
    },
    {
      "cell_type": "code",
      "source": [
        "\n",
        "# 결측치 제거\n",
        "df_yn.isnull().sum()"
      ],
      "metadata": {
        "id": "iCV580bOBcZI"
      },
      "execution_count": null,
      "outputs": []
    },
    {
      "cell_type": "code",
      "source": [
        "\n",
        "df_yn = df_yn.dropna()\n",
        "df_yn.isnull().sum()"
      ],
      "metadata": {
        "id": "c23h9kotBf54"
      },
      "execution_count": null,
      "outputs": []
    },
    {
      "cell_type": "code",
      "source": [
        "\n",
        "# 데이터 type 변환\n",
        "\n",
        "df_yn[\"연령대\"] = df_yn[\"연령대\"].astype(int)\n",
        "df_yn[\"성별\"] = df_yn[\"성별\"].astype(int)\n",
        "df_yn[\"국산차량여부\"] = df_yn[\"국산차량여부\"].astype(int)\n",
        "df_yn[\"가입경력코드\"] = df_yn[\"가입경력코드\"].astype(int)\n"
      ],
      "metadata": {
        "id": "Sq8G0q1NBfDH"
      },
      "execution_count": null,
      "outputs": []
    },
    {
      "cell_type": "code",
      "source": [
        "\n",
        "# 모델에 넣기 위해 categorical 변수 Label Encoding\n",
        "\n",
        "from sklearn.preprocessing import LabelEncoder\n",
        "\n",
        "le = LabelEncoder()\n",
        "\n",
        "category = (df_yn.dtypes == object)\n",
        "categorical_col = df_yn.columns[category].tolist()\n",
        "\n",
        "for col_name in categorical_col:\n",
        "    le = LabelEncoder()\n",
        "    le = le.fit(df_yn[col_name])\n",
        "    df_yn[col_name] = le.transform(df_yn[col_name])"
      ],
      "metadata": {
        "id": "-EvYuLfCsmhE"
      },
      "execution_count": null,
      "outputs": []
    },
    {
      "cell_type": "code",
      "source": [
        "\n"
      ],
      "metadata": {
        "id": "4Bqo0VPzBljw"
      },
      "execution_count": null,
      "outputs": []
    },
    {
      "cell_type": "code",
      "source": [],
      "metadata": {
        "id": "sr_YCl3-BmjD"
      },
      "execution_count": null,
      "outputs": []
    },
    {
      "cell_type": "markdown",
      "source": [
        "### 모델\n"
      ],
      "metadata": {
        "id": "y6EESdiDuIHo"
      }
    },
    {
      "cell_type": "code",
      "source": [
        "\n",
        "from sklearn.model_selection import train_test_split\n",
        "# from sklearn.preprocessing import LabelEncoder\n",
        "from sklearn.svm import SVC\n",
        "from sklearn.metrics import accuracy_score, confusion_matrix, classification_report, f1_score, roc_auc_score, roc_curve, mean_squared_error, precision_score, recall_score\n",
        "from sklearn.model_selection import KFold\n",
        "import math\n"
      ],
      "metadata": {
        "id": "HwHGcaX1B31a"
      },
      "execution_count": null,
      "outputs": []
    },
    {
      "cell_type": "code",
      "source": [
        "# 로지스틱 회귀 함수\n",
        "def SVC_classifier(X, y):\n",
        "\n",
        "    # LogisticRegression 초기화\n",
        "    model = SVC()\n",
        "\n",
        "    # 오차를 저장할 DataFrame 생성\n",
        "    accuracy = []\n",
        "    err = []\n",
        "    precision = []\n",
        "    recall = []\n",
        "    auc = []\n",
        "\n",
        "    # 학습 100번 실행\n",
        "    for i in range(100):\n",
        "\n",
        "        # train-test split\n",
        "        X_train, X_test, y_train, y_test = train_test_split(X, y,\n",
        "                                                    test_size = 0.2, stratify = y)\n",
        "\n",
        "        # 모델 학습\n",
        "        model.fit(X_train, y_train)\n",
        "\n",
        "        # 예측\n",
        "        y_pred = model.predict(X_test)\n",
        "        y_proba = model.predict_proba(X_test)[:,1].reshape(-1,1)\n",
        "\n",
        "        # 평가지표 저장\n",
        "        accuracy.append(accuracy_score(y_test, y_pred))\n",
        "        err.append((1 - accuracy_score(y_test, y_pred)))\n",
        "        precision.append(precision_score(y_test, y_pred))\n",
        "        recall.append(recall_score(y_test, y_pred))\n",
        "        auc.append(roc_auc_score(y_test, y_proba))\n",
        "\n",
        "        # print\n",
        "        print(f\"{i+1}번째 완료\")\n",
        "\n",
        "    result = pd.DataFrame(zip(accuracy, err, auc, precision, recall))\n",
        "    result.columns = ['accuracy', 'error rate', 'AUC', 'precision', 'recall']\n",
        "\n",
        "    return result\n"
      ],
      "metadata": {
        "id": "7BT4NhlVBnFo"
      },
      "execution_count": null,
      "outputs": []
    },
    {
      "cell_type": "code",
      "source": [
        "\n",
        "from sklearn.model_selection import GridSearchCV, KFold\n",
        "from sklearn import datasets\n",
        "from sklearn.model_selection import train_test_split\n",
        "from sklearn.svm import SVC\n",
        "from sklearn.metrics import accuracy_score\n",
        "from sklearn.model_selection import cross_val_score\n",
        "import matplotlib.pyplot as plt\n",
        "import numpy as np\n",
        "import xgboost as xgb\n",
        "from itertools import product\n",
        "from tqdm import tqdm\n",
        "\n",
        "\n"
      ],
      "metadata": {
        "id": "6Gx6oamOBpo3"
      },
      "execution_count": null,
      "outputs": []
    },
    {
      "cell_type": "code",
      "source": [
        "accuracy_list =[]\n",
        "\n",
        "best_params_list = []\n",
        "\n",
        "\n",
        "for _ in tqdm(range(100)):\n",
        "    model = xgb.XGBClassifier()\n",
        "\n",
        "\n",
        "    # x, y 분리\n",
        "    yn_X = df_yn.drop(columns = [\"사고유무\"])\n",
        "    yn_y = df_yn[\"사고유무\"]\n",
        "\n",
        "\n",
        "    # train, test 분리\n",
        "    X_train, X_test, y_train, y_test = train_test_split(yn_X, yn_y ,test_size = 0.2)\n",
        "\n",
        "\n",
        "    # 인덱스를 재설정하여 0부터 시작하는 연속적인 정수 인덱스를 부여합니다.\n",
        "    X_train.reset_index(drop=True, inplace=True)\n",
        "    y_train.reset_index(drop=True, inplace=True)\n",
        "\n",
        "    # train set에서 1000개의 데이터를 랜덤으로 추출합니다.\n",
        "    random_indices = np.random.choice(len(X_train), size=1000, replace=False)\n",
        "    X_train_subset = X_train.loc[random_indices]\n",
        "    y_train_subset = y_train.loc[random_indices]\n",
        "\n",
        "\n",
        "    param_grid = {\n",
        "        'max_depth': [3, 4, 5],\n",
        "        'learning_rate': [0.1, 0.01],\n",
        "        'n_estimators': [100, 200, 500]\n",
        "    }\n",
        "\n",
        "\n",
        "    # 이거는 하나씩 파라미터 조합 만드는 방법\n",
        "    # for params_values in product(*parameters.values()):\n",
        "    #   now_param = dict(zip(parameters.keys(), params_values))\n",
        "\n",
        "    kf = KFold(n_splits=5, shuffle=True, random_state=42)\n",
        "    grid_search = GridSearchCV(estimator=model, param_grid=param_grid, scoring='neg_mean_squared_error', cv=kf)\n",
        "\n",
        "    grid_search.fit(X_train_subset, y_train_subset)\n",
        "    best_params_list.append(grid_search.best_params_)\n",
        "\n",
        "    best_model = grid_search.best_estimator_\n",
        "\n",
        "    y_pred = best_model.predict(X_test)  # 테스트 데이터에 대한 예측 수행\n",
        "    accuracy_list.append(accuracy_score(y_test, y_pred))"
      ],
      "metadata": {
        "colab": {
          "base_uri": "https://localhost:8080/"
        },
        "id": "-gwTZ2IGszQa",
        "outputId": "5599a439-f176-4401-ca9f-66d81ee80e52"
      },
      "execution_count": null,
      "outputs": [
        {
          "output_type": "stream",
          "name": "stderr",
          "text": [
            "100%|██████████| 100/100 [20:36<00:00, 12.36s/it]\n"
          ]
        }
      ]
    },
    {
      "cell_type": "code",
      "source": [
        "from sklearn.ensemble import GradientBoostingClassifier\n",
        "\n",
        "accuracy_list_gradient = []\n",
        "best_params_list_gradient = []\n",
        "\n",
        "for _ in tqdm(range(100)):\n",
        "    model = GradientBoostingClassifier()\n",
        "\n",
        "    # x, y 분리\n",
        "    yn_X = df_yn.drop(columns=[\"사고유무\"])\n",
        "    yn_y = df_yn[\"사고유무\"]\n",
        "\n",
        "    # train, test 분리\n",
        "    X_train, X_test, y_train, y_test = train_test_split(yn_X, yn_y, test_size=0.2)\n",
        "\n",
        "    # 인덱스를 재설정하여 0부터 시작하는 연속적인 정수 인덱스를 부여합니다.\n",
        "    X_train.reset_index(drop=True, inplace=True)\n",
        "    y_train.reset_index(drop=True, inplace=True)\n",
        "\n",
        "    # train set에서 1000개의 데이터를 랜덤으로 추출합니다.\n",
        "    random_indices = np.random.choice(len(X_train), size=1000, replace=False)\n",
        "    X_train_subset = X_train.loc[random_indices]\n",
        "    y_train_subset = y_train.loc[random_indices]\n",
        "\n",
        "    param_grid = {\n",
        "        'max_depth': [3, 4, 5],\n",
        "        'learning_rate': [0.1, 0.01],\n",
        "        'n_estimators': [100, 200, 500]\n",
        "    }\n",
        "\n",
        "    kf = KFold(n_splits=5, shuffle=True, random_state=42)\n",
        "    grid_search = GridSearchCV(estimator=model, param_grid=param_grid, scoring='neg_mean_squared_error', cv=kf)\n",
        "\n",
        "    grid_search.fit(X_train_subset, y_train_subset)\n",
        "    best_params_list_gradient.append(grid_search.best_params_)\n",
        "\n",
        "    best_model = grid_search.best_estimator_\n",
        "\n",
        "    y_pred = best_model.predict(X_test)  # 테스트 데이터에 대한 예측 수행\n",
        "    accuracy_list_gradient.append(accuracy_score(y_test, y_pred))\n"
      ],
      "metadata": {
        "colab": {
          "base_uri": "https://localhost:8080/"
        },
        "id": "qwAazgPKMt82",
        "outputId": "1ace77b3-7f72-40f5-f8d8-47597e16a5a4"
      },
      "execution_count": null,
      "outputs": [
        {
          "output_type": "stream",
          "name": "stderr",
          "text": [
            "100%|██████████| 100/100 [1:12:38<00:00, 43.58s/it]\n"
          ]
        }
      ]
    },
    {
      "cell_type": "code",
      "source": [
        "from sklearn.svm import SVC\n",
        "\n",
        "accuracy_list_svm = []\n",
        "best_params_list_svm = []\n",
        "\n",
        "for _ in tqdm(range(100)):\n",
        "    model = SVC()\n",
        "\n",
        "    # x, y 분리\n",
        "    yn_X = df_yn.drop(columns=[\"사고유무\"])\n",
        "    yn_y = df_yn[\"사고유무\"]\n",
        "\n",
        "    # train, test 분리\n",
        "    X_train, X_test, y_train, y_test = train_test_split(yn_X, yn_y, test_size=0.2)\n",
        "\n",
        "    # 인덱스를 재설정하여 0부터 시작하는 연속적인 정수 인덱스를 부여합니다.\n",
        "    X_train.reset_index(drop=True, inplace=True)\n",
        "    y_train.reset_index(drop=True, inplace=True)\n",
        "\n",
        "    # train set에서 1000개의 데이터를 랜덤으로 추출합니다.\n",
        "    random_indices = np.random.choice(len(X_train), size=1000, replace=False)\n",
        "    X_train_subset = X_train.loc[random_indices]\n",
        "    y_train_subset = y_train.loc[random_indices]\n",
        "\n",
        "    param_grid = {\n",
        "        'C': [0.1, 1, 10],\n",
        "        'kernel': ['linear', 'rbf']\n",
        "    }\n",
        "\n",
        "    kf = KFold(n_splits=5, shuffle=True, random_state=42)\n",
        "    grid_search = GridSearchCV(estimator=model, param_grid=param_grid, scoring='accuracy', cv=kf)\n",
        "\n",
        "    grid_search.fit(X_train_subset, y_train_subset)\n",
        "    best_params_list_svm.append(grid_search.best_params_)\n",
        "\n",
        "    best_model = grid_search.best_estimator_\n",
        "\n",
        "    y_pred = best_model.predict(X_test)  # 테스트 데이터에 대한 예측 수행\n",
        "    accuracy_list_svm.append(accuracy_score(y_test, y_pred))\n"
      ],
      "metadata": {
        "colab": {
          "base_uri": "https://localhost:8080/"
        },
        "id": "0GfwTblKNRHl",
        "outputId": "a2c406a9-cffa-483f-8375-b480a5753569"
      },
      "execution_count": null,
      "outputs": [
        {
          "output_type": "stream",
          "name": "stderr",
          "text": [
            "100%|██████████| 100/100 [17:14<00:00, 10.34s/it]\n"
          ]
        }
      ]
    },
    {
      "cell_type": "code",
      "source": [
        "import matplotlib.pyplot as plt\n",
        "\n",
        "# 모델의 정확도 리스트들을 하나의 리스트에 모아줍니다.\n",
        "accuracy_lists = [accuracy_list_svm, accuracy_list_gradient, accuracy_list]\n",
        "labels = ['SVM', 'Gradient Boost', 'XGBoost']\n",
        "\n",
        "# Boxplot을 그립니다.\n",
        "plt.figure(figsize=(10, 6))\n",
        "plt.boxplot(accuracy_lists, labels=labels)\n",
        "plt.title('Accuracy Comparison')\n",
        "plt.xlabel('Model')\n",
        "plt.ylabel('Accuracy')\n",
        "plt.grid(True)\n",
        "plt.show()\n"
      ],
      "metadata": {
        "id": "cGF4c5WYw6CT",
        "colab": {
          "base_uri": "https://localhost:8080/",
          "height": 564
        },
        "outputId": "e0f7d9f4-73f9-48f9-bf17-fb83220771dc"
      },
      "execution_count": null,
      "outputs": [
        {
          "output_type": "display_data",
          "data": {
            "text/plain": [
              "<Figure size 1000x600 with 1 Axes>"
            ],
            "image/png": "[encoded data removed]"
          },
          "metadata": {}
        }
      ]
    },
    {
      "cell_type": "code",
      "source": [
        "# 0. 모델 선정\n",
        "# 1. test 100번 (외부 반복문)\n",
        "# 2. train test 나누기 (8:2)\n",
        "# 3. train data 중에 1000개 추출\n",
        "# 4. 파라미터 별로 반복 (그리디 서치)\n",
        "# 5. cross validation (5회 반복) (평균 추출?)\n",
        "# 6. best parameter 뽑아 test set 추론 후 값 저장\n",
        "# 7. test 100번 완료 후 boxplot 그리기.\n",
        "\n",
        "\n",
        "\n",
        "\n",
        "\n"
      ],
      "metadata": {
        "id": "MMbNt2MkBld6"
      },
      "execution_count": null,
      "outputs": []
    },
    {
      "cell_type": "code",
      "source": [],
      "metadata": {
        "id": "nPOnEx1dXCxs"
      },
      "execution_count": null,
      "outputs": []
    }
  ]
}