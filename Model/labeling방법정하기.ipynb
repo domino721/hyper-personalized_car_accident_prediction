{
  "nbformat": 4,
  "nbformat_minor": 0,
  "metadata": {
    "colab": {
      "provenance": []
    },
    "kernelspec": {
      "name": "python3",
      "display_name": "Python 3"
    },
    "language_info": {
      "name": "python"
    }
  },
  "cells": [
    {
      "cell_type": "code",
      "execution_count": 2,
      "metadata": {
        "id": "mAMD99fvCqF6"
      },
      "outputs": [],
      "source": [
        "# 연산 처리  패키지\n",
        "import pandas as pd\n",
        "import numpy as np\n",
        "\n",
        "# 시각화 패키지\n",
        "from matplotlib import pyplot as plt\n",
        "import seaborn as sns\n",
        "\n",
        "# 통계분석 패키지\n",
        "import statsmodels.api as sm\n",
        "\n",
        "# 그래프 설정\n",
        "%matplotlib inline\n",
        "\n",
        "# 경고 메세지 무시\n",
        "import warnings\n",
        "warnings.filterwarnings('ignore')"
      ]
    },
    {
      "cell_type": "code",
      "source": [
        "# 코랩 mount\n",
        "from google.colab import drive\n",
        "drive.mount('/content/drive')\n",
        "\n",
        "# root_path = \"C:/Users/user/Desktop/기계학습이해/\"\n",
        "root_path = \"/content/drive/MyDrive/기계학습이해/\"\n",
        "\n",
        "# 데이터 읽어오기\n",
        "df1 = pd.read_csv(root_path+\"Dataset/(자동차보험) 고객별 사고 발생률 예측 모델링_1.csv\", encoding = \"cp949\", engine='python')\n",
        "df2 = pd.read_csv(root_path+\"Dataset/(자동차보험) 고객별 사고 발생률 예측 모델링_2.csv\", encoding = \"cp949\", engine='python')\n",
        "df3 = pd.read_csv(root_path+\"Dataset/(자동차보험) 고객별 사고 발생률 예측 모델링_3.csv\", encoding = \"cp949\", engine='python')"
      ],
      "metadata": {
        "colab": {
          "base_uri": "https://localhost:8080/"
        },
        "id": "LjdK5PPTCref",
        "outputId": "0e10c0d0-d833-488f-a75e-de037725c098"
      },
      "execution_count": null,
      "outputs": [
        {
          "output_type": "stream",
          "name": "stdout",
          "text": [
            "Mounted at /content/drive\n"
          ]
        }
      ]
    },
    {
      "cell_type": "code",
      "source": [
        "# 데이터 이상 없는 df의 column 확인\n",
        "col = df2.columns\n",
        "\n",
        "# 오류로 생성된 column 삭제\n",
        "df1 = df1[col]\n",
        "\n",
        "# df1의 파일상 null 행 삭제\n",
        "null_idx = df1[df1[\"차종\"].isnull()].index.tolist()\n",
        "df1 = df1.drop(index = null_idx)\n",
        "\n",
        "df1"
      ],
      "metadata": {
        "id": "kEZdrVTqCsjw"
      },
      "execution_count": null,
      "outputs": []
    },
    {
      "cell_type": "code",
      "source": [
        "# 데이터 프레임 합치기\n",
        "df = pd.concat([df1, df2, df3], ignore_index = True)\n",
        "df"
      ],
      "metadata": {
        "id": "LFAkW7aqCtUv"
      },
      "execution_count": null,
      "outputs": []
    },
    {
      "cell_type": "code",
      "source": [
        "# 수치형인데 object인 column 형변환\n",
        "df['YUHO'] = df['YUHO'].str.replace(',', '').astype(int)\n",
        "df['SAGO'] = df['SAGO'].apply(lambda x: int(float(str(x).replace(',', '').split('.')[0])))\n",
        "df['SAGO'] = df['SAGO'].replace(',', '').astype(int)\n",
        "\n",
        "# column명 한글로 변환\n",
        "df = df.rename(columns = {\"ZINSRDAVL\": \"연령대\", \"ZIOSEXCD\": \"성별\",\n",
        "                        \"ZDPRODSCD\": \"국산차량여부\", \"NCR\": \"직전3년간사고건수\",\n",
        "                        \"ZCARPSGVL\": \"차량경과년수\", \"ZDRVLISCD___T\": \"운전자한정특별약관\",\n",
        "                        \"ZENTCARCD\": \"가입경력코드\", \"ZCARISDAM\": \"차량가입금액\",\n",
        "                        \"ZIMAGERVL\": \"영상기록장치특약가입\", \"YUHO\": \"유효대수\",\n",
        "                        \"SAGO\" : \"사고건수\"})\n",
        "\n",
        "# 사용하지 않는 column drop\n",
        "df = df.drop(columns = ['ZCPRLCLCD', 'ZDRVLISCD'])\n",
        "df"
      ],
      "metadata": {
        "id": "iz1LopLjDMyM"
      },
      "execution_count": null,
      "outputs": []
    },
    {
      "cell_type": "code",
      "source": [
        "column_names = df.columns.tolist()\n",
        "print(column_names)"
      ],
      "metadata": {
        "id": "KcrhW4iJFI_J"
      },
      "execution_count": null,
      "outputs": []
    },
    {
      "cell_type": "code",
      "source": [
        "df['사고유무'] = df.apply(lambda row: 0 if row['사고건수'] == 0 else 1, axis = 1)"
      ],
      "metadata": {
        "id": "T3D-4w6FF5xn"
      },
      "execution_count": null,
      "outputs": []
    },
    {
      "cell_type": "code",
      "source": [
        "# 0과 100을 제거하는 방법\n",
        "df = df[(df['연령대'] != 0) & (df['연령대'] != 100)]\n",
        "df['연령대'].unique()\n"
      ],
      "metadata": {
        "id": "ZQzHFcznD88-"
      },
      "execution_count": null,
      "outputs": []
    },
    {
      "cell_type": "code",
      "source": [
        "df = df[df['유효대수'] <= 1]\n",
        "df['유효대수'].unique()"
      ],
      "metadata": {
        "id": "rDHYAXv8Epj_"
      },
      "execution_count": null,
      "outputs": []
    },
    {
      "cell_type": "code",
      "source": [
        "# df = df[df['직전3년간사고건수'] <= 1]\n",
        "df['직전3년간사고건수'].unique()"
      ],
      "metadata": {
        "id": "PaDUSS9CFTUM"
      },
      "execution_count": null,
      "outputs": []
    },
    {
      "cell_type": "code",
      "source": [
        "from sklearn.preprocessing import LabelEncoder\n",
        "\n",
        "# LabelEncoder 객체 생성\n",
        "label_encoder = LabelEncoder()"
      ],
      "metadata": {
        "id": "8wtEdNM7Gu6X"
      },
      "execution_count": null,
      "outputs": []
    },
    {
      "cell_type": "code",
      "source": [
        "df"
      ],
      "metadata": {
        "id": "HTJBjiJMQf1s"
      },
      "execution_count": null,
      "outputs": []
    },
    {
      "cell_type": "code",
      "source": [
        "import pandas as pd"
      ],
      "metadata": {
        "id": "a7hjV-lutuVl"
      },
      "execution_count": null,
      "outputs": []
    },
    {
      "cell_type": "code",
      "source": [
        "def make_df(df):\n",
        "  # 연령대\n",
        "\n",
        "\n",
        "  # 연령대 컬럼을 one-hot 인코딩으로 변환\n",
        "  one_hot_age = pd.get_dummies(df['연령대']).reset_index(drop=True)\n",
        "\n",
        "  # 은아님\n",
        "  labeled_age = df['연령대'].apply(lambda x: int(str(x).replace(',', '').split('.')[0])).reset_index(drop=True)\n",
        "\n",
        "  # 민호님\n",
        "  column_age = df['연령대']\n",
        "  numeric_age = column_age.replace({10: 19, 20: 25, 30: 35, 40: 44, 50: 54, 60: 64, 70: 73, 80: 83, 90: 93}).to_frame().reset_index(drop=True)\n",
        "\n",
        "  # one-hot + 은아님\n",
        "  one_hot_numeric_age = pd.concat([one_hot_age, numeric_age], axis = 1).reset_index(drop=True)\n",
        "\n",
        "  # one_hot + 민호님\n",
        "  labeled_numeric_age = pd.concat([labeled_age, numeric_age], axis = 1).reset_index(drop=True)\n",
        "\n",
        "  ages = [one_hot_age, labeled_age, numeric_age,one_hot_numeric_age,labeled_numeric_age]\n",
        "\n",
        "\n",
        "  # 직전 3년간 사고 건수\n",
        "\n",
        "  one_hot_NCR = pd.get_dummies(df['직전3년간사고건수']).reset_index(drop=True)\n",
        "\n",
        "  # 은아님\n",
        "  # 신규 0, 무사고 1, 1회 2, 2회 3, 3회 4, 결측치 0 은 무사고로 편입\n",
        "  labeled_NCR_1 = df['직전3년간사고건수'].apply(lambda x: str(x).replace('0', 'N'))\n",
        "  labeled_NCR = labeled_NCR_1.apply(lambda x: int(str(x).replace('Z', '0').replace('N', '1').replace('D', '2').replace('C', '3').replace('B', '4'))).reset_index(drop=True)\n",
        "\n",
        "\n",
        "  # 민호님\n",
        "  column_NCR = df['직전3년간사고건수']\n",
        "  numeric_NCR = column_NCR.replace({'N': 0, 'D': 1, 'C': 2, 'B': 3, 'Z': 0.15}).to_frame().reset_index(drop=True)\n",
        "\n",
        "  # one-hot + 은아님\n",
        "  one_hot_numeric_NCR = pd.concat([one_hot_NCR, numeric_NCR], axis = 1).reset_index(drop=True)\n",
        "\n",
        "  # one_hot + 민호님\n",
        "  labeled_numeric_NCR = pd.concat([labeled_NCR, numeric_NCR], axis = 1).reset_index(drop=True)\n",
        "\n",
        "  NCRs = [one_hot_NCR, labeled_NCR, numeric_NCR, one_hot_numeric_NCR, labeled_numeric_NCR]\n",
        "\n",
        "\n",
        "  ## 차량 경과년수\n",
        "\n",
        "  one_hot_carAge = pd.get_dummies(df['차량경과년수']).reset_index(drop=True)\n",
        "\n",
        "  # 은아님\n",
        "  labeled_carAge = df['차량경과년수'].apply(lambda x: int(str(x).replace('신차', '0').replace('5년이하', '1').replace('10년이하', '2').replace('10년이상', '3'))).reset_index(drop=True)\n",
        "\n",
        "\n",
        "  # 민호님\n",
        "  column_carAge = df['차량경과년수']\n",
        "  numeric_carAge = column_carAge.replace({'신차': 0, '5년이하': 3.16, '10년이하': 7.8, '10년이상': 12.86}).to_frame().reset_index(drop=True)\n",
        "\n",
        "  # one-hot + 은아님\n",
        "  one_hot_numeric_carAge = pd.concat([one_hot_carAge, numeric_carAge], axis = 1).reset_index(drop=True)\n",
        "\n",
        "\n",
        "  # one_hot + 민호님\n",
        "  labeled_numeric_carAge = pd.concat([labeled_carAge, numeric_carAge], axis = 1).reset_index(drop=True)\n",
        "\n",
        "  carAges = [one_hot_carAge, labeled_carAge, numeric_carAge, one_hot_numeric_carAge, labeled_numeric_carAge]\n",
        "\n",
        "\n",
        "  # 차종\n",
        "  one_hot_carType = pd.get_dummies(df['차종']).reset_index(drop=True)\n",
        "\n",
        "  # 은아님\n",
        "  labeled_carType = df['차종'].apply(lambda x: int(str(x).replace('소형A', '0').replace('소형B', '1').replace('중형', '2').replace('대형', '3').replace('다목적1종','4').replace('다목적2종','5').replace('기타','6'))).reset_index(drop=True)\n",
        "\n",
        "\n",
        "  # 민호님\n",
        "  column_carType = df['차종']\n",
        "  numeric_carType = column_carType.replace({'소형A': 998, '소형B':1500 , '중형': 1999, '대형': 2740,'다목적1종':2080, '다목적2종':2080 }).to_frame().reset_index(drop=True)\n",
        "\n",
        "  # one-hot + 은아님\n",
        "  one_hot_numeric_carType = pd.concat([one_hot_carType, numeric_carType], axis = 1).reset_index(drop=True)\n",
        "\n",
        "\n",
        "  # one_hot + 민호님\n",
        "  labeled_numeric_carType = pd.concat([labeled_carType, numeric_carType], axis = 1).reset_index(drop=True)\n",
        "\n",
        "\n",
        "  carTypes = [one_hot_carType, labeled_carType, numeric_carType, one_hot_numeric_carType, labeled_numeric_carType]\n",
        "\n",
        "\n",
        "  # 마일리지\n",
        "\n",
        "\n",
        "  one_hot_mileage = pd.get_dummies(df['마일리지약정거리']).reset_index(drop=True)\n",
        "\n",
        "\n",
        "  # 은아님\n",
        "  labeled_mileage_1 = df['마일리지약정거리'].apply(lambda x: str(x).replace('12000K','4').replace('15000K','5').replace('미가입','6'))\n",
        "  labeled_mileage = labeled_mileage_1.apply(lambda x: int(str(x).replace('3000K', '0').replace('5000K', '1').replace('7000K', '2').replace('10000K', '3'))).reset_index(drop=True)\n",
        "\n",
        "\n",
        "  # 민호님\n",
        "  column_mileage = df['마일리지약정거리']\n",
        "  numeric_mileage = column_mileage.replace({'미가입': 0, '3000K': 3, '5000K': 5, '7000K': 7, '10000K':9 , '12000K':10, '15000K':15}).to_frame().reset_index(drop=True)\n",
        "\n",
        "  # one-hot + 은아님\n",
        "  one_hot_numeric_mileage = pd.concat([one_hot_mileage, numeric_mileage], axis = 1).reset_index(drop=True)\n",
        "\n",
        "  # one_hot + 민호님\n",
        "  labeled_numeric_mileage = pd.concat([labeled_mileage, numeric_mileage], axis = 1).reset_index(drop=True)\n",
        "\n",
        "  mileages = [one_hot_mileage, labeled_mileage, numeric_mileage,one_hot_numeric_mileage, labeled_numeric_mileage]\n",
        "\n",
        "\n",
        "  # 가입경력\n",
        "\n",
        "  one_hot_exp = pd.get_dummies(df['가입경력코드']).reset_index(drop=True)\n",
        "\n",
        "  # 은아님\n",
        "  labeled_exp = df['가입경력코드'].apply(lambda x: int(str(x).split('.')[0])).reset_index(drop=True)\n",
        "\n",
        "  exps = [one_hot_exp, labeled_exp]\n",
        "\n",
        "\n",
        "  # 가입금액\n",
        "\n",
        "  one_hot_money = pd.get_dummies(df['차량가입금액']).reset_index(drop=True)\n",
        "\n",
        "  # 은아님\n",
        "  labeled_money = df['차량가입금액'].apply(lambda x : int(str(x).replace('미가입','0').replace('5천만원이하','1').replace('1억이하','2').replace('1억이상','3'))).reset_index(drop=True)\n",
        "\n",
        "  moneys = [one_hot_money, labeled_money]\n",
        "\n",
        "  one_hot_sex = pd.get_dummies(df['성별'])\n",
        "  one_hot_kor = pd.get_dummies(df['국산차량여부'])\n",
        "  one_hot_rule = pd.get_dummies(df['운전자한정특별약관'])\n",
        "  one_hot_cctv = pd.get_dummies(df['영상기록장치특약가입'])\n",
        "\n",
        "  combined_df = pd.concat([one_hot_sex, one_hot_kor, one_hot_rule, one_hot_cctv], axis=1).reset_index(drop=True)\n",
        "\n",
        "  df_y = df['사고유무'].reset_index(drop=True)\n",
        "\n",
        "  return ages, NCRs, carAges, carTypes, mileages, exps, moneys, combined_df, df_y\n"
      ],
      "metadata": {
        "id": "IFK4twXiept1"
      },
      "execution_count": null,
      "outputs": []
    },
    {
      "cell_type": "code",
      "source": [],
      "metadata": {
        "id": "eLiNuAPXgGxV"
      },
      "execution_count": null,
      "outputs": []
    },
    {
      "cell_type": "markdown",
      "source": [],
      "metadata": {
        "id": "yKlDjpWXfUoz"
      }
    },
    {
      "cell_type": "code",
      "source": [
        "from sklearn.model_selection import train_test_split\n",
        "from sklearn.preprocessing import LabelEncoder\n",
        "from sklearn.linear_model import LogisticRegression, LinearRegression\n",
        "from sklearn.metrics import accuracy_score, confusion_matrix, classification_report, f1_score, roc_auc_score, roc_curve, mean_squared_error, precision_score, recall_score\n",
        "import math"
      ],
      "metadata": {
        "id": "nL6YTyVNuraz"
      },
      "execution_count": null,
      "outputs": []
    },
    {
      "cell_type": "code",
      "source": [
        "from sklearn.model_selection import cross_val_score\n",
        "import matplotlib.pyplot as plt\n",
        "import numpy as np\n",
        "from imblearn.over_sampling import SMOTE\n",
        "from imblearn.over_sampling import SMOTENC"
      ],
      "metadata": {
        "id": "6m_IXYtt6tsD"
      },
      "execution_count": null,
      "outputs": []
    },
    {
      "cell_type": "code",
      "source": [
        "# 여기 모델올거임\n",
        "\n",
        "# 로지스틱 회귀 함수\n",
        "def logistic_classifier(X_train, X_test, y_train, y_test):\n",
        "\n",
        "    # LogisticRegression 초기화\n",
        "    model = LogisticRegression()\n",
        "\n",
        "\n",
        "    # 모델 학습\n",
        "    model.fit(X_train, y_train)\n",
        "\n",
        "\n",
        "    # 예측\n",
        "    y_pred = model.predict(X_test)\n",
        "    y_proba = model.predict_proba(X_test)[:,1].reshape(-1,1) # 양성 클래스에 대한 확률 추출\n",
        "\n",
        "\n",
        "    # 평가지표\n",
        "    accuracy = accuracy_score(y_test, y_pred)\n",
        "    precision = precision_score(y_test, y_pred)\n",
        "    recall = recall_score(y_test, y_pred)\n",
        "    f1 = f1_score(y_test, y_pred, average='weighted')\n",
        "    auc = roc_auc_score(y_test, y_proba)\n",
        "\n",
        "    # 최적 threshold 값 & 그 때의 FPR 출력\n",
        "    fper, tper, thresholds = roc_curve(y_test, y_proba)  # thresholds 별 fpr tpr 계산\n",
        "    optimal_idx = np.argmax(tper - fper)                 # fpr, tpr 간 차이가 가장 클 때의 index 저장\n",
        "    optimal_fpr = fper[optimal_idx]                      # 해당 index에 위치한 fpr값 저장\n",
        "    optimal_threshold = thresholds[optimal_idx]\n",
        "\n",
        "    # 최적 threshold로 진행할 때의 평가지표\n",
        "    # y_optpred = (y_proba > thresholds[optimal_idx]).astype(int)\n",
        "    # accuracy = accuracy_score(y_test, y_optpred)\n",
        "    # precision = precision_score(y_test, y_optpred)\n",
        "    # recall = recall_score(y_test, y_optpred)\n",
        "    # f1 = f1_score(y_test, y_optpred, average='weighted')\n",
        "\n",
        "\n",
        "\n",
        "    return [accuracy, precision, recall, f1, auc, optimal_fpr]\n",
        "\n"
      ],
      "metadata": {
        "id": "mUeAHXmdLLP0"
      },
      "execution_count": null,
      "outputs": []
    },
    {
      "cell_type": "code",
      "source": [
        "import pandas as pd\n",
        "\n",
        "result_dir = root_path + \"/result/things.csv\"\n",
        "result_df = pd.DataFrame(columns=[\"name\", \"accuracy\", \"precision\", \"recall\", \"f1\", \"auc\", \"optimal_fpr\"])\n",
        "\n",
        "\n",
        "result = dict()\n",
        "\n",
        "for _ in range(30):\n",
        "\n",
        "  ## 8천개를 먼저 뽑고\n",
        "  now_df = df.sample(n=8000)\n",
        "\n",
        "  # 모든 라벨링 경우의 수를 만듬\n",
        "  ages, NCRs, carAges, carTypes, mileages, exps, moneys, combined_df, df_y = make_df(now_df)\n",
        "\n",
        "  count = 0\n",
        "  for a, age in enumerate(ages, start=1):\n",
        "    for b, NCR in enumerate(NCRs, start=1):\n",
        "      for c, carAge in enumerate(carAges, start=1):\n",
        "        for d, carType in enumerate(carTypes, start=1):\n",
        "          for e, mileage in enumerate(mileages, start=1):\n",
        "            for f, exp in enumerate(exps, start=1):\n",
        "              for g, money in enumerate(moneys, start=1):\n",
        "\n",
        "                name = str(a) + str(b) + str(c) + str(d) + str(e) + str(f) + str(g)\n",
        "\n",
        "\n",
        "                comb_df = pd.concat([combined_df, age, NCR, carAge, carType, mileage,exp, money], axis=1)\n",
        "\n",
        "                comb_df.columns = comb_df.columns.astype(str)\n",
        "\n",
        "\n",
        "                comb_df_numeric = comb_df.astype(int)\n",
        "\n",
        "\n",
        "                X_train, X_test, y_train, y_test = train_test_split(comb_df_numeric, df_y, test_size = 0.2)\n",
        "\n",
        "\n",
        "                # SMOTE를 이용하여 증강\n",
        "                smote = SMOTE(sampling_strategy='auto')  # 'auto'는 소수 클래스의 샘플 수를 맞춥니다.\n",
        "                X_train_resampled, y_train_resampled = smote.fit_resample(X_train, y_train)\n",
        "\n",
        "                accuracy, precision, recall, f1, auc, optimal_fpr = logistic_classifier(X_train_resampled, X_test, y_train_resampled, y_test)\n",
        "\n",
        "\n",
        "                if name not in result:\n",
        "                  result[name] = [[accuracy], [precision], [recall], [f1], [auc], [optimal_fpr]]\n",
        "                else:\n",
        "                  result[name][0].append(accuracy)\n",
        "                  result[name][1].append(precision)\n",
        "                  result[name][2].append(recall)\n",
        "                  result[name][3].append(f1)\n",
        "                  result[name][4].append(auc)\n",
        "                  result[name][5].append(optimal_fpr)\n",
        "\n",
        "  # result_df.to_csv(result_dir, index=False)\n",
        "  print(i/30, \"% 완료\")\n",
        "\n",
        "\n",
        "\n",
        "\n",
        "for key, value in result.items():\n",
        "        for i in range(len(value)):\n",
        "            value[i] = np.median(value[i])\n",
        "\n",
        "\n",
        "# DataFrame으로 변환\n",
        "df_result = pd.DataFrame.from_dict(result, columns=['accuracy', 'precision', 'recall', 'f1', 'auc', 'optimal_fpr'])\n",
        "\n",
        "df_result.to_csv(result_dir, index=False)\n"
      ],
      "metadata": {
        "id": "yfLwGTfjLLKH",
        "collapsed": true
      },
      "execution_count": null,
      "outputs": []
    },
    {
      "cell_type": "markdown",
      "source": [
        "## 컬럼네임 해석\n",
        "\n",
        "age, NCR, carAge, carType, mileage,exp, money 순서대로\n",
        "\n",
        "1: one-hot\n",
        "\n",
        "2: 은아님\n",
        "\n",
        "3: 민호님\n",
        "\n",
        "4: one-hot + 은아님\n",
        "\n",
        "5: one-hot + 민호님\n",
        "\n",
        "\n",
        "\n",
        "  예시로 111112 은 전부 one-hot이고, money만 은아님 방식으로 라벨링\n"
      ],
      "metadata": {
        "id": "iF9EPi8I2aEN"
      }
    },
    {
      "cell_type": "markdown",
      "source": [],
      "metadata": {
        "id": "Ke2XiAHwwDlA"
      }
    },
    {
      "cell_type": "code",
      "source": [],
      "metadata": {
        "id": "BS1WvtR01Ubt"
      },
      "execution_count": null,
      "outputs": []
    }
  ]
}